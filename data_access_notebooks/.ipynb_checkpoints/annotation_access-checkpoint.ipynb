{
 "cells": [
  {
   "cell_type": "code",
   "execution_count": 25,
   "metadata": {
    "colab": {},
    "colab_type": "code",
    "id": "L-ciXPPjUwOi"
   },
   "outputs": [],
   "source": [
    "# Intern allows us to access boss resources https://docs.theboss.io/docs/getting-started-intern\n",
    "# You do not need to modify this cell, it will connect to the bossdb for you. \n",
    "from intern.remote.boss import BossRemote\n",
    "from intern.resource.boss.resource import *\n",
    "import numpy as np\n",
    "import configparser\n",
    "import matplotlib.pyplot as plt\n",
    "\n",
    "# Setup and connection parameters\n",
    "connection_params={\n",
    "    'protocol':'https',\n",
    "    'host':'api.bossdb.io',\n",
    "    'token':'public' #allows read access to the general public\n",
    "}\n",
    "\n",
    "# Dataset dimensions are z:[0,720], y:[0,1420], x:[0,5805]\n",
    "# Data beyond these ranges will be padded with 0 values\n",
    "#BossDB access uses an [inclusive_index,exclusive_index] format, so [0,10] specifies 10 index values 0-9\n",
    "data_params={\n",
    "    'prasad_coll':'prasad',\n",
    "    'prasad_exp' : 'prasad2020',\n",
    "    'prasad_channel' : 'image',\n",
    "    'pixel_annotation_channel': 'pixel_annotation',\n",
    "    'roi_channel': 'region_of_interest',\n",
    "    'roi_interp_channel': 'roi_interpolated',\n",
    "    'prasad_coord' : 'prasad_prasad2020',\n",
    "    'prasad_res' : 0, #Native resolution of dataset is 1.17um, 1.17um, 1.17um per voxel=\n",
    "}\n",
    "\n",
    "#create connection objecgts\n",
    "rmt = BossRemote(connection_params)\n",
    "chan_pixel = ChannelResource(data_params['pixel_annotation_channel'], data_params['prasad_coll'], data_params['prasad_exp'],\n",
    "                             'annotation', datatype='uint64', sources=data_params['prasad_channel'])\n",
    "chan_roi = ChannelResource(data_params['roi_channel'], data_params['prasad_coll'], data_params['prasad_exp'],\n",
    "                             'annotation', datatype='uint64', sources=data_params['prasad_channel'])\n",
    "chan_roi_interp = ChannelResource(data_params['roi_interp_channel'], data_params['prasad_coll'], data_params['prasad_exp'],\n",
    "                             'annotation', datatype='uint64', sources=data_params['prasad_channel'])"
   ]
  },
  {
   "cell_type": "code",
   "execution_count": 24,
   "metadata": {},
   "outputs": [
    {
     "name": "stdout",
     "output_type": "stream",
     "text": [
      "(361, 257, 257)\n",
      "2\n",
      "0\n"
     ]
    },
    {
     "data": {
      "text/plain": [
       "<matplotlib.image.AxesImage at 0x114553828>"
      ]
     },
     "execution_count": 24,
     "metadata": {},
     "output_type": "execute_result"
    },
    {
     "data": {
      "image/png": "[encoded data removed]",
      "text/plain": [
       "<matplotlib.figure.Figure at 0x113079438>"
      ]
     },
     "metadata": {},
     "output_type": "display_data"
    }
   ],
   "source": [
    "#Microstructure \n",
    "#Region 1: Cortex\n",
    "#Codes\n",
    "# background = 0\n",
    "# blood vessel = 1\n",
    "# cell = 2\n",
    "# myelinated axon (white matter) = 3\n",
    "#Full coordinates of Manual coritical annotations\n",
    "# The annotations are valid for z=[140,170,200,230,260,290,320,350,380,410,440,470]\n",
    "xrange=[4600,4857]\n",
    "yrange=[900,1157]\n",
    "zrange=[110,471]\n",
    "\n",
    "#Get the Annotation from bossDB\n",
    "anno_cutout_data = rmt.get_cutout(chan_pixel, data_params['prasad_res'], xrange,\n",
    "                                 yrange, zrange)\n",
    "\n",
    "# zero indexed Z slices equal to multiples of 30 are valid, [30,60,90,120,150,180,210,240,270,300,330,360]\n",
    "print(anno_cutout_data.shape) #Data are Z,Y,X\n",
    "print(np.max(anno_cutout_data))\n",
    "print(np.min(anno_cutout_data))\n",
    "plt.imshow(np.squeeze(anno_cutout_data[300,:,:]/3.0))"
   ]
  },
  {
   "cell_type": "code",
   "execution_count": 27,
   "metadata": {},
   "outputs": [
    {
     "name": "stdout",
     "output_type": "stream",
     "text": [
      "(361, 257, 257)\n",
      "3\n",
      "0\n"
     ]
    },
    {
     "data": {
      "text/plain": [
       "<matplotlib.image.AxesImage at 0x1147f1b38>"
      ]
     },
     "execution_count": 27,
     "metadata": {},
     "output_type": "execute_result"
    },
    {
     "data": {
      "image/png": "[encoded data removed]",
      "text/plain": [
       "<matplotlib.figure.Figure at 0x114045470>"
      ]
     },
     "metadata": {},
     "output_type": "display_data"
    }
   ],
   "source": [
    "#Microstructure \n",
    "#Region 2: Striatum\n",
    "#Codes\n",
    "# background = 0\n",
    "# blood vessel = 1\n",
    "# cell = 2\n",
    "# myelinated axon = 3\n",
    "# The annotations are valid for z=[140,170,200,230,260,290,320,350,380,410,440,470]\n",
    "#channel pixel_annotation\n",
    "\n",
    "xrange=[3700,3957]\n",
    "yrange=[500,757]\n",
    "zrange=[110,471]\n",
    "\n",
    "#Get the Annotation from bossDB\n",
    "anno_cutout_data = rmt.get_cutout(chan_pixel, data_params['prasad_res'], xrange,\n",
    "                                 yrange, zrange)\n",
    "# zero indexed Z slices equal to multiples of 30 are valid, [30,60,90,120,150,180,210,240,270,300,330,360]\n",
    "print(anno_cutout_data.shape) #Data are Z,Y,X\n",
    "print(np.max(anno_cutout_data))\n",
    "print(np.min(anno_cutout_data))\n",
    "plt.imshow(np.squeeze(anno_cutout_data[300,:,:]/3.0))"
   ]
  },
  {
   "cell_type": "code",
   "execution_count": 21,
   "metadata": {},
   "outputs": [
    {
     "name": "stdout",
     "output_type": "stream",
     "text": [
      "(361, 257, 257)\n",
      "3\n",
      "0\n"
     ]
    },
    {
     "data": {
      "text/plain": [
       "<matplotlib.image.AxesImage at 0x1140321d0>"
      ]
     },
     "execution_count": 21,
     "metadata": {},
     "output_type": "execute_result"
    },
    {
     "data": {
      "image/png": "[encoded data removed]",
      "text/plain": [
       "<matplotlib.figure.Figure at 0x113ce46a0>"
      ]
     },
     "metadata": {},
     "output_type": "display_data"
    }
   ],
   "source": [
    "#Microstructure \n",
    "#Region 3: Thalamus (contains mostly VP and some TRN)\n",
    "#Codes\n",
    "# background = 0\n",
    "# blood vessel = 1\n",
    "# cell = 2\n",
    "# myelinated axon = 3\n",
    "# The annotations are valid for z=[140,170,200,230,260,290,320,350,380,410,440,470]\n",
    "#channel pixel_annotation\n",
    "\n",
    "xrange=[3063,3320]\n",
    "yrange=[850,1107]\n",
    "zrange=[110,471]\n",
    "\n",
    "#Get the Annotation from bossDB\n",
    "anno_cutout_data = rmt.get_cutout(chan_pixel, data_params['prasad_res'], xrange,\n",
    "                                 yrange, zrange)\n",
    "# zero indexed Z slices equal to multiples of 30 are valid, [30,60,90,120,150,180,210,240,270,300,330,360]\n",
    "print(anno_cutout_data.shape) #Data are Z,Y,X\n",
    "print(np.max(anno_cutout_data))\n",
    "print(np.min(anno_cutout_data))\n",
    "plt.imshow(np.squeeze(anno_cutout_data[300,:,:]/3.0))"
   ]
  },
  {
   "cell_type": "code",
   "execution_count": 22,
   "metadata": {},
   "outputs": [
    {
     "name": "stdout",
     "output_type": "stream",
     "text": [
      "(361, 257, 257)\n",
      "2\n",
      "0\n"
     ]
    },
    {
     "data": {
      "text/plain": [
       "<matplotlib.image.AxesImage at 0x11425bc88>"
      ]
     },
     "execution_count": 22,
     "metadata": {},
     "output_type": "execute_result"
    },
    {
     "data": {
      "image/png": "[encoded data removed]",
      "text/plain": [
       "<matplotlib.figure.Figure at 0x113e946d8>"
      ]
     },
     "metadata": {},
     "output_type": "display_data"
    }
   ],
   "source": [
    "#Microstructure \n",
    "#Region 4: ZI\n",
    "#Codes\n",
    "# background = 0\n",
    "# blood vessel = 1\n",
    "# cell = 2\n",
    "# myelinated axon = 3\n",
    "# The annotations are valid for z=[140,170,200,230,260,290,320,350,380,410,440,470]\n",
    "#channel pixel_annotation\n",
    "\n",
    "xrange=[1543,1800]\n",
    "yrange=[650,907]\n",
    "zrange=[110,471]\n",
    "\n",
    "#Get the Annotations from bossDB\n",
    "anno_cutout_data = rmt.get_cutout(chan_pixel, data_params['prasad_res'], xrange,\n",
    "                                 yrange, zrange)\n",
    "# zero indexed Z slices equal to multiples of 30 are valid, [30,60,90,120,150,180,210,240,270,300,330,360]\n",
    "print(anno_cutout_data.shape) #Data are Z,Y,X\n",
    "print(np.max(anno_cutout_data))\n",
    "print(np.min(anno_cutout_data))\n",
    "plt.imshow(np.squeeze(anno_cutout_data[300,:,:]/3.0))"
   ]
  },
  {
   "cell_type": "code",
   "execution_count": null,
   "metadata": {},
   "outputs": [],
   "source": []
  }
 ],
 "metadata": {
  "colab": {
   "name": "boss.ipynb",
   "provenance": []
  },
  "kernelspec": {
   "display_name": "Python 3",
   "language": "python",
   "name": "python3"
  },
  "language_info": {
   "codemirror_mode": {
    "name": "ipython",
    "version": 3
   },
   "file_extension": ".py",
   "mimetype": "text/x-python",
   "name": "python",
   "nbconvert_exporter": "python",
   "pygments_lexer": "ipython3",
   "version": "3.7.6"
  }
 },
 "nbformat": 4,
 "nbformat_minor": 1
}
