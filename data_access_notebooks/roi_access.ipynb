{
 "cells": [
  {
   "cell_type": "markdown",
   "metadata": {},
   "source": [
    "## Accessing area-level annotations"
   ]
  },
  {
   "cell_type": "markdown",
   "metadata": {},
   "source": [
    "#### Required imports and setting up connections"
   ]
  },
  {
   "cell_type": "code",
   "execution_count": 1,
   "metadata": {
    "colab": {},
    "colab_type": "code",
    "id": "L-ciXPPjUwOi"
   },
   "outputs": [],
   "source": [
    "# Intern allows us to access boss resources https://docs.theboss.io/docs/getting-started-intern\n",
    "# You do not need to modify this cell, it will connect to the bossdb for you. \n",
    "\n",
    "from intern.remote.boss import BossRemote\n",
    "from intern.resource.boss.resource import *\n",
    "import numpy as np\n",
    "import configparser\n",
    "import matplotlib.pyplot as plt\n",
    "\n",
    "# Setup and connection parameters\n",
    "\n",
    "connection_params={\n",
    "    'protocol':'https',\n",
    "    'host':'api.bossdb.io',\n",
    "    'token':'public' #allows read access to the general public\n",
    "}\n",
    "\n",
    "# Dataset dimensions are z:[0,720], y:[0,1420], x:[0,5805]\n",
    "# Data beyond these ranges will be padded with 0 values\n",
    "#BossDB access uses an [inclusive_index,exclusive_index] format, so [0,10] specifies 10 index values 0-9\n",
    "\n",
    "data_params={\n",
    "    'prasad_coll':'prasad',\n",
    "    'prasad_exp' : 'prasad2020',\n",
    "    'prasad_channel' : 'image',\n",
    "    'pixel_annotation_channel': 'pixel_annotation',\n",
    "    'roi_channel': 'region_of_interest',\n",
    "    'prasad_coord' : 'prasad_prasad2020',\n",
    "    'prasad_res' : 0, #Native resolution of dataset is 1.17um, 1.17um, 1.17um per voxel=\n",
    "}\n",
    "\n",
    "#create connection objects\n",
    "\n",
    "rmt = BossRemote(connection_params)\n",
    "chan_pixel = ChannelResource(data_params['pixel_annotation_channel'], data_params['prasad_coll'], data_params['prasad_exp'],\n",
    "                             'annotation', datatype='uint64', sources=data_params['prasad_channel'])\n",
    "chan_roi = ChannelResource(data_params['roi_channel'], data_params['prasad_coll'], data_params['prasad_exp'],\n",
    "                             'annotation', datatype='uint64', sources=data_params['prasad_channel'])"
   ]
  },
  {
   "cell_type": "markdown",
   "metadata": {},
   "source": [
    "#### Select z-slice to download area-level annotations for"
   ]
  },
  {
   "cell_type": "markdown",
   "metadata": {},
   "source": [
    "Labels:<br>\n",
    "0 = Clear<br>\n",
    "1 = Cortex<br>\n",
    "2 = Striatum<br>\n",
    "3 = TRN<br>\n",
    "4 = Ventral Posterior (VP)<br>\n",
    "5 = Zona Incerta (ZI)<br>\n",
    "6 = Internal Capsule (IC)<br>\n",
    "7 = Hypothalamus<br>\n",
    "8 = Corpus Callosum<br>"
   ]
  },
  {
   "cell_type": "code",
   "execution_count": 2,
   "metadata": {},
   "outputs": [
    {
     "name": "stdout",
     "output_type": "stream",
     "text": [
      "(1, 1420, 5805)\n",
      "8\n",
      "0\n"
     ]
    },
    {
     "data": {
      "text/plain": [
       "<matplotlib.image.AxesImage at 0x11b68a1d0>"
      ]
     },
     "execution_count": 2,
     "metadata": {},
     "output_type": "execute_result"
    },
    {
     "data": {
      "image/png": "[encoded data removed]",
      "text/plain": [
       "<matplotlib.figure.Figure at 0x1089447f0>"
      ]
     },
     "metadata": {},
     "output_type": "display_data"
    }
   ],
   "source": [
    "#Manually annotated Regions of Interest (ROI)\n",
    "#Several z slices were manually annotated to indicate Regions of interest\n",
    "\n",
    "#The following z slices were hand annotated\n",
    "z_vals = [109,159,209,259,309,359,409,410,460]\n",
    "xrange = [0,5805]\n",
    "yrange = [0,1420]\n",
    "\n",
    "#select your favorite z slice (in this case, 259)\n",
    "\n",
    "zrange = [259,260] #selects a single slice, bossDB indexes [inclusive,exclusive]\n",
    "\n",
    "#Get the ROI Annotation from bossDB\n",
    "\n",
    "roi_cutout_data = rmt.get_cutout(chan_roi, data_params['prasad_res'], xrange,\n",
    "                                 yrange, zrange)\n",
    "\n",
    "print(roi_cutout_data.shape) #Data are Z,Y,X\n",
    "print(np.max(roi_cutout_data))\n",
    "print(np.min(roi_cutout_data))\n",
    "plt.imshow(np.squeeze(roi_cutout_data[0,:,:]/8.0))"
   ]
  },
  {
   "cell_type": "code",
   "execution_count": null,
   "metadata": {},
   "outputs": [],
   "source": []
  }
 ],
 "metadata": {
  "colab": {
   "name": "boss.ipynb",
   "provenance": []
  },
  "kernelspec": {
   "display_name": "Python 3",
   "language": "python",
   "name": "python3"
  },
  "language_info": {
   "codemirror_mode": {
    "name": "ipython",
    "version": 3
   },
   "file_extension": ".py",
   "mimetype": "text/x-python",
   "name": "python",
   "nbconvert_exporter": "python",
   "pygments_lexer": "ipython3",
   "version": "3.6.3"
  }
 },
 "nbformat": 4,
 "nbformat_minor": 1
}
