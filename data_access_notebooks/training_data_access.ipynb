{
 "cells": [
  {
   "cell_type": "markdown",
   "metadata": {},
   "source": [
    "## Accessing pixel-level annotations and corresponding raw data"
   ]
  },
  {
   "cell_type": "markdown",
   "metadata": {},
   "source": [
    "#### Required imports and setting up connections"
   ]
  },
  {
   "cell_type": "code",
   "execution_count": 7,
   "metadata": {
    "colab": {},
    "colab_type": "code",
    "id": "L-ciXPPjUwOi"
   },
   "outputs": [],
   "source": [
    "# Intern allows us to access boss resources https://docs.theboss.io/docs/getting-started-intern\n",
    "# You do not need to modify this cell, it will connect to the bossdb for you. \n",
    "from intern.remote.boss import BossRemote\n",
    "from intern.resource.boss.resource import *\n",
    "import numpy as np\n",
    "import configparser\n",
    "import matplotlib.pyplot as plt\n",
    "\n",
    "# Setup and connection parameters\n",
    "connection_params={\n",
    "    'protocol':'https',\n",
    "    'host':'api.bossdb.io',\n",
    "    'token':'public' #allows read access to the general public\n",
    "}\n",
    "\n",
    "# Dataset dimensions are z:[0,720], y:[0,1420], x:[0,5805]\n",
    "# Data beyond these ranges will be padded with 0 values\n",
    "#BossDB access uses an [inclusive_index,exclusive_index] format, so [0,10] specifies 10 index values 0-9\n",
    "data_params={\n",
    "    'prasad_coll':'prasad',\n",
    "    'prasad_exp' : 'prasad2020',\n",
    "    'prasad_channel' : 'image',\n",
    "    'pixel_annotation_channel': 'pixel_annotation',\n",
    "    'roi_channel': 'region_of_interest',\n",
    "    'roi_interp_channel': 'roi_interpolated',\n",
    "    'prasad_coord' : 'prasad_prasad2020',\n",
    "    'prasad_res' : 0, #Native resolution of dataset is 1.17um, 1.17um, 1.17um per voxel=\n",
    "}\n",
    "\n",
    "#create connection objects\n",
    "rmt = BossRemote(connection_params)\n",
    "chan_raw = ChannelResource(data_params['prasad_channel'], data_params['prasad_coll'], data_params['prasad_exp'],\n",
    "                             'annotation', datatype='uint8', sources=data_params['prasad_channel'])\n",
    "chan_pixel = ChannelResource(data_params['pixel_annotation_channel'], data_params['prasad_coll'], data_params['prasad_exp'],\n",
    "                             'annotation', datatype='uint64', sources=data_params['prasad_channel'])"
   ]
  },
  {
   "cell_type": "markdown",
   "metadata": {},
   "source": [
    "#### Download data from bossDB with pixel-level annotations"
   ]
  },
  {
   "cell_type": "markdown",
   "metadata": {},
   "source": [
    "#### Striatum"
   ]
  },
  {
   "cell_type": "code",
   "execution_count": 9,
   "metadata": {},
   "outputs": [
    {
     "name": "stdout",
     "output_type": "stream",
     "text": [
      "(12, 257, 257)\n",
      "(12, 257, 257)\n"
     ]
    }
   ],
   "source": [
    "#pull training dataset from bossDB with pixel-level segmentation labels for the striatum region\n",
    "#These are split into adjacent training and validation volumes along the z axis\n",
    "#This dataset is useful for developing 2D image segmentation approaches using these data\n",
    "\n",
    "# zero indexed Z slices equal to multiples of 30 are valid, [30,60,90,120,150,180,210,240,270,300,330,360]\n",
    "\n",
    "z_slices = [30,60,90,120,150,180,210,240,270,300,330,360]\n",
    "\n",
    "xrange=[3700,3957]\n",
    "yrange=[500,757]\n",
    "zrange=[110,471]\n",
    "\n",
    "#Get the Annotation from bossDB\n",
    "x = rmt.get_cutout(chan_raw, data_params['prasad_res'], xrange,\n",
    "                                 yrange, zrange)\n",
    "y = rmt.get_cutout(chan_pixel, data_params['prasad_res'], xrange,\n",
    "                                 yrange, zrange)\n",
    "\n",
    "x_train = x[z_slices,:,:]\n",
    "y_train = y[z_slices,:,:]\n",
    "print(x_train.shape)\n",
    "print(y_train.shape)"
   ]
  },
  {
   "cell_type": "markdown",
   "metadata": {},
   "source": [
    "#### VP"
   ]
  },
  {
   "cell_type": "code",
   "execution_count": 10,
   "metadata": {},
   "outputs": [
    {
     "name": "stdout",
     "output_type": "stream",
     "text": [
      "(12, 257, 257)\n",
      "(12, 257, 257)\n"
     ]
    }
   ],
   "source": [
    "#pull validation dataset from bossDB with pixel-level segmentation labels for the VP region\n",
    "\n",
    "# zero indexed Z slices equal to multiples of 30 are valid, [30,60,90,120,150,180,210,240,270,300,330,360]\n",
    "z_slices = [30,60,90,120,150,180,210,240,270,300,330,360]\n",
    "\n",
    "xrange=[3063,3320]\n",
    "yrange=[850,1107]\n",
    "zrange=[110,471]\n",
    "\n",
    "#Get the Annotation from bossDB\n",
    "x = rmt.get_cutout(chan_raw, data_params['prasad_res'], xrange,\n",
    "                                 yrange, zrange)\n",
    "y = rmt.get_cutout(chan_pixel, data_params['prasad_res'], xrange,\n",
    "                                 yrange, zrange)\n",
    "\n",
    "x_val = x[z_slices,:,:]\n",
    "y_val = y[z_slices,:,:]\n",
    "print(x_val.shape)\n",
    "print(y_val.shape)"
   ]
  },
  {
   "cell_type": "code",
   "execution_count": null,
   "metadata": {},
   "outputs": [],
   "source": []
  }
 ],
 "metadata": {
  "colab": {
   "name": "boss.ipynb",
   "provenance": []
  },
  "kernelspec": {
   "display_name": "Python 3",
   "language": "python",
   "name": "python3"
  },
  "language_info": {
   "codemirror_mode": {
    "name": "ipython",
    "version": 3
   },
   "file_extension": ".py",
   "mimetype": "text/x-python",
   "name": "python",
   "nbconvert_exporter": "python",
   "pygments_lexer": "ipython3",
   "version": "3.7.4"
  }
 },
 "nbformat": 4,
 "nbformat_minor": 1
}
